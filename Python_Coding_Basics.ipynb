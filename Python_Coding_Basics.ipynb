{
 "cells": [
  {
   "cell_type": "markdown",
   "metadata": {
    "slideshow": {
     "slide_type": "slide"
    }
   },
   "source": [
    "# Python Coding Basics"
   ]
  },
  {
   "cell_type": "markdown",
   "metadata": {},
   "source": [
    "### Things to teach\n",
    "\n",
    "* Jupyter notebook menu\n",
    "* Types of cells: code vs markdown (and loading)\n",
    "* Running cells\n",
    "\n",
    "* Comments - 2 types\n",
    "* Helpful features\n",
    "* Variables - reserved words, examples\n",
    "* Operators\n",
    "* Conditional Statements, Loops\n",
    "* Lists, Tuples, Dictionaries\n",
    "* Functions\n",
    "* Classes\n",
    "* Modules - 2 types of import statements"
   ]
  },
  {
   "cell_type": "markdown",
   "metadata": {},
   "source": [
    "### Comments"
   ]
  },
  {
   "cell_type": "code",
   "execution_count": null,
   "metadata": {},
   "outputs": [],
   "source": [
    "# single line comment.\n",
    "msg = \"Hello World\" # characters after hash are not executed. \n",
    "\n",
    "\"\"\"\n",
    "Multiple Line comment\n",
    "This is another line of comment\n",
    "\"\"\""
   ]
  },
  {
   "cell_type": "markdown",
   "metadata": {},
   "source": [
    "### Helpful features"
   ]
  },
  {
   "cell_type": "code",
   "execution_count": null,
   "metadata": {},
   "outputs": [],
   "source": [
    "# Python's help\n",
    "help(len)"
   ]
  },
  {
   "cell_type": "code",
   "execution_count": null,
   "metadata": {
    "collapsed": true
   },
   "outputs": [],
   "source": [
    "#jupyter notebooks help\n",
    "len?"
   ]
  },
  {
   "cell_type": "code",
   "execution_count": null,
   "metadata": {},
   "outputs": [],
   "source": [
    "# jupyter notebook's \"tab\" feature\n",
    "set."
   ]
  },
  {
   "cell_type": "code",
   "execution_count": null,
   "metadata": {
    "collapsed": true
   },
   "outputs": [],
   "source": [
    "# get the type\n",
    "k = 2\n",
    "type(k)"
   ]
  },
  {
   "cell_type": "markdown",
   "metadata": {},
   "source": [
    "### Variables"
   ]
  },
  {
   "cell_type": "code",
   "execution_count": null,
   "metadata": {},
   "outputs": [],
   "source": [
    "#identifiers are case sensitive\n",
    "msg1 = \"hello\"\n",
    "MSG1 = \"goodbye\"\n",
    "\n",
    "print(\"first message: \", msg1)\n",
    "print(\"the other message:\", MSG1)"
   ]
  },
  {
   "cell_type": "code",
   "execution_count": null,
   "metadata": {},
   "outputs": [],
   "source": [
    "#this results in an error\n",
    "#msg3 \n",
    "\n",
    "# Use:\n",
    "msg3=None"
   ]
  },
  {
   "cell_type": "code",
   "execution_count": null,
   "metadata": {},
   "outputs": [],
   "source": [
    "# reserved keywords - cannot be used as identifiers for variables, functions etc.\n",
    "import keyword\n",
    "keyword.kwlist"
   ]
  },
  {
   "cell_type": "code",
   "execution_count": null,
   "metadata": {},
   "outputs": [],
   "source": [
    "# base types\n",
    "int_var = 3\n",
    "print(type(int_var))\n",
    "\n",
    "floating_var = 4.0\n",
    "print(type(floating_var))\n",
    "\n",
    "msg4=\"cheeky monkey\"\n",
    "print(type(msg4))\n",
    "\n",
    "complex_var=2+5j\n",
    "print(type(complex_var))\n",
    "\n",
    "bool_var = True\n",
    "print(type(bool_var))"
   ]
  },
  {
   "cell_type": "code",
   "execution_count": null,
   "metadata": {},
   "outputs": [],
   "source": [
    "#some interesting features\n",
    "j, k = 4, 5\n",
    "print(j, k)\n",
    "\n",
    "#swap\n",
    "j, k = k, j\n",
    "print(j, k)"
   ]
  },
  {
   "cell_type": "markdown",
   "metadata": {},
   "source": [
    "### Operators"
   ]
  },
  {
   "cell_type": "code",
   "execution_count": null,
   "metadata": {},
   "outputs": [],
   "source": [
    "x = 7\n",
    "y = 2\n",
    "print(x+y)\n",
    "print(x-y)\n",
    "print(x*y)\n",
    "print(x/y) #floating point division\n",
    "print(x//y) #integer division\n",
    "print(x%y) #remainder"
   ]
  },
  {
   "cell_type": "code",
   "execution_count": null,
   "metadata": {},
   "outputs": [],
   "source": [
    "print(x<<1) #shift x by 1 bit to the left. Effectively multiplies by 2."
   ]
  },
  {
   "cell_type": "code",
   "execution_count": null,
   "metadata": {},
   "outputs": [],
   "source": [
    "#string concatenation\n",
    "msg5=\"Thank\"\n",
    "msg6=\"You\"\n",
    "print(msg5 + \" \" + msg6) "
   ]
  },
  {
   "cell_type": "markdown",
   "metadata": {},
   "source": [
    "### Conditional Statements"
   ]
  },
  {
   "cell_type": "code",
   "execution_count": null,
   "metadata": {},
   "outputs": [],
   "source": [
    "# if, elif, else. \n",
    "# indentation is important\n",
    "\n",
    "i = 20\n",
    "if i<10:\n",
    "    print(\"i is less than 10\")\n",
    "elif 10<=i<18: # note this comparison\n",
    "    print(\"i between 10 and 18\")\n",
    "else:\n",
    "    print(\"i greater than 20\")"
   ]
  },
  {
   "cell_type": "markdown",
   "metadata": {},
   "source": [
    "#### Note\n",
    "\n",
    "* false things are False, None, 0, 0.0 etc...\n",
    "* Use 'and', 'or' and 'not' to combine conditionals\n",
    "* There is no 'switch'.\n",
    "* Use 'break' to come out of existing conditional if block.\n",
    "* No 'goto' in Python"
   ]
  },
  {
   "cell_type": "markdown",
   "metadata": {},
   "source": [
    "### Loops"
   ]
  },
  {
   "cell_type": "code",
   "execution_count": null,
   "metadata": {},
   "outputs": [],
   "source": [
    "for x in range(10):\n",
    "    print(x) #indent!"
   ]
  },
  {
   "cell_type": "code",
   "execution_count": null,
   "metadata": {},
   "outputs": [],
   "source": [
    "for x in \"message\": #works for strings\n",
    "    print(x) #indent!"
   ]
  },
  {
   "cell_type": "code",
   "execution_count": null,
   "metadata": {},
   "outputs": [],
   "source": [
    "i=4\n",
    "while i>0:\n",
    "    print(i)\n",
    "    i -=1"
   ]
  },
  {
   "cell_type": "markdown",
   "metadata": {},
   "source": [
    "Use 'break', 'pass' and 'continue' alongside for and while loops"
   ]
  },
  {
   "cell_type": "markdown",
   "metadata": {},
   "source": [
    "### Lists"
   ]
  },
  {
   "cell_type": "code",
   "execution_count": null,
   "metadata": {},
   "outputs": [],
   "source": [
    "# like array, but can store different things\n",
    "s = [5, \"cat\", 2.4, 7, [\"Singapore\", 4]]\n",
    "print(s)"
   ]
  },
  {
   "cell_type": "code",
   "execution_count": null,
   "metadata": {},
   "outputs": [],
   "source": [
    "s[0] # zero-indexing"
   ]
  },
  {
   "cell_type": "code",
   "execution_count": null,
   "metadata": {},
   "outputs": [],
   "source": [
    "#slicing\n",
    "print(s[1:3])\n",
    "print(s[-2]) #works in reverse too"
   ]
  },
  {
   "cell_type": "code",
   "execution_count": null,
   "metadata": {},
   "outputs": [],
   "source": [
    "#replace\n",
    "s[0]=3\n",
    "s"
   ]
  },
  {
   "cell_type": "code",
   "execution_count": null,
   "metadata": {},
   "outputs": [],
   "source": [
    "s[4][0] # hierarchical"
   ]
  },
  {
   "cell_type": "code",
   "execution_count": null,
   "metadata": {},
   "outputs": [],
   "source": [
    "# use type to help you figure this out, step-by-step\n",
    "type(s[4])"
   ]
  },
  {
   "cell_type": "code",
   "execution_count": null,
   "metadata": {},
   "outputs": [],
   "source": [
    "#go through each item in a list\n",
    "for item in s:\n",
    "    print(item)"
   ]
  },
  {
   "cell_type": "code",
   "execution_count": null,
   "metadata": {},
   "outputs": [],
   "source": [
    "# list comprehension\n",
    "w = [item for item in s if type(item)==int]\n",
    "w"
   ]
  },
  {
   "cell_type": "code",
   "execution_count": null,
   "metadata": {},
   "outputs": [],
   "source": [
    "#above is similar to this\n",
    "w=[]\n",
    "for item in s:\n",
    "    if type(item)==int:\n",
    "        w.append(item)\n",
    "w"
   ]
  },
  {
   "cell_type": "code",
   "execution_count": null,
   "metadata": {},
   "outputs": [],
   "source": [
    "w.append(6)\n",
    "w"
   ]
  },
  {
   "cell_type": "markdown",
   "metadata": {},
   "source": [
    "### Tuples"
   ]
  },
  {
   "cell_type": "markdown",
   "metadata": {},
   "source": [
    "q = (1, \"dog\", 4.2, \"rat\")\n",
    "for i in q:\n",
    "    print(i)"
   ]
  },
  {
   "cell_type": "code",
   "execution_count": null,
   "metadata": {},
   "outputs": [],
   "source": [
    "#tuples are immutable\n",
    "q[0]\n",
    "q[0] = \"fox\" #this will give error"
   ]
  },
  {
   "cell_type": "markdown",
   "metadata": {},
   "source": [
    "### Dictionaries"
   ]
  },
  {
   "cell_type": "code",
   "execution_count": null,
   "metadata": {},
   "outputs": [],
   "source": [
    "# key-value pair\n",
    "dct = {\"Jane\": 4, \"John\": 2, \"May\": 3}\n",
    "\n",
    "print(dct[\"Jane\"])"
   ]
  },
  {
   "cell_type": "code",
   "execution_count": null,
   "metadata": {},
   "outputs": [],
   "source": [
    "# add new items\n",
    "dct[\"Peter\"] =\"dog\"\n",
    "dct"
   ]
  },
  {
   "cell_type": "code",
   "execution_count": null,
   "metadata": {},
   "outputs": [],
   "source": [
    "for i,k in dct.items(): # x.items() to iterate items in dictionary\n",
    "    print(i, k)"
   ]
  },
  {
   "cell_type": "markdown",
   "metadata": {},
   "source": [
    "### Functions"
   ]
  },
  {
   "cell_type": "code",
   "execution_count": null,
   "metadata": {
    "collapsed": true
   },
   "outputs": [],
   "source": [
    "def double(x):\n",
    "    return x*2 #identation is important!"
   ]
  },
  {
   "cell_type": "code",
   "execution_count": null,
   "metadata": {},
   "outputs": [],
   "source": [
    "t = 2\n",
    "u = double(t)\n",
    "print(u)"
   ]
  },
  {
   "cell_type": "code",
   "execution_count": null,
   "metadata": {
    "collapsed": true
   },
   "outputs": [],
   "source": [
    "def print_something():\n",
    "    print(\"something\")\n",
    "    \n",
    "print_something()"
   ]
  },
  {
   "cell_type": "code",
   "execution_count": null,
   "metadata": {
    "collapsed": true
   },
   "outputs": [],
   "source": [
    "# built-in functions. Free and always available. Part of \"Batteries Included\"\n",
    "dir(__builtins__)"
   ]
  },
  {
   "cell_type": "code",
   "execution_count": null,
   "metadata": {},
   "outputs": [],
   "source": [
    "#tuples used to 'unpack' multiple returns\n",
    "def double_triple(x):\n",
    "    return x*2, x*3\n",
    "\n",
    "ans = double_triple(3)\n",
    "type(ans)"
   ]
  },
  {
   "cell_type": "code",
   "execution_count": null,
   "metadata": {},
   "outputs": [],
   "source": [
    "print(ans)"
   ]
  },
  {
   "cell_type": "code",
   "execution_count": null,
   "metadata": {},
   "outputs": [],
   "source": [
    "(x,y) = double_triple(4)\n",
    "print(x, y)"
   ]
  },
  {
   "cell_type": "code",
   "execution_count": null,
   "metadata": {},
   "outputs": [],
   "source": [
    "#works even without round brackets\n",
    "x,y = double_triple(5)\n",
    "print(x, y)"
   ]
  },
  {
   "cell_type": "markdown",
   "metadata": {},
   "source": [
    "### Class and Libraries"
   ]
  },
  {
   "cell_type": "code",
   "execution_count": null,
   "metadata": {},
   "outputs": [],
   "source": [
    "class Person:\n",
    "    counter=0\n",
    "    \n",
    "    def __init__(self, name):\n",
    "        self.name=name\n",
    "        Person.counter +=1\n",
    "    \n",
    "    def show_name(self):\n",
    "        print(\"My name is \" + self.name)"
   ]
  },
  {
   "cell_type": "code",
   "execution_count": null,
   "metadata": {},
   "outputs": [],
   "source": [
    "p1 = Person(\"John\")\n",
    "p2 = Person(\"Bob\")\n",
    "\n",
    "#note the dot notation\n",
    "p1.show_name()\n",
    "Person.counter"
   ]
  },
  {
   "cell_type": "markdown",
   "metadata": {},
   "source": [
    "### Modules"
   ]
  },
  {
   "cell_type": "code",
   "execution_count": null,
   "metadata": {
    "collapsed": true
   },
   "outputs": [],
   "source": [
    "import math\n",
    "\n",
    "def area_circle(r):\n",
    "    return math.pi * r * r"
   ]
  },
  {
   "cell_type": "code",
   "execution_count": null,
   "metadata": {},
   "outputs": [],
   "source": [
    "print(area_circle(3))"
   ]
  },
  {
   "cell_type": "code",
   "execution_count": null,
   "metadata": {
    "collapsed": true
   },
   "outputs": [],
   "source": [
    "from math import pi\n",
    "\n",
    "def perimeter_circle(r):\n",
    "    return 2 * pi * r"
   ]
  },
  {
   "cell_type": "code",
   "execution_count": null,
   "metadata": {},
   "outputs": [],
   "source": [
    "print(perimeter_circle(3))"
   ]
  },
  {
   "cell_type": "markdown",
   "metadata": {},
   "source": [
    "#### Note\n",
    "\n",
    "* Create and import your own modules (xxx.py >>> import xxx)\n",
    "* import runs 'all' the code in your module once over. If you change your module, you must reload\n",
    "* Useful modules include: string, re, os, urllib, datetime, sys\n"
   ]
  }
 ],
 "metadata": {
  "kernelspec": {
   "display_name": "Python 3",
   "language": "python",
   "name": "python3"
  },
  "language_info": {
   "codemirror_mode": {
    "name": "ipython",
    "version": 3
   },
   "file_extension": ".py",
   "mimetype": "text/x-python",
   "name": "python",
   "nbconvert_exporter": "python",
   "pygments_lexer": "ipython3",
   "version": "3.6.3"
  }
 },
 "nbformat": 4,
 "nbformat_minor": 2
}
