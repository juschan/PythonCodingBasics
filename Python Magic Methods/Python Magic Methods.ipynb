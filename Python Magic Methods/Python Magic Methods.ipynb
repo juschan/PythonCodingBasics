{
 "cells": [
  {
   "cell_type": "markdown",
   "metadata": {},
   "source": [
    "# Python Magic Methods\n",
    "\n",
    "### 1. What are Python Magic Methods?\n",
    "\n",
    "A class can implement certain operations that are invoked by special syntax using methods with special names. If you come from a C++ background, this is Python's magic method has some similarities with C++'s operator overloading.\n",
    "\n",
    "Examples of such operators include:\n",
    "* \\_\\_init\\_\\_()\n",
    "* \\_\\_add\\_\\_()\n",
    "\n",
    "### 2. What are the other ways we can refer to Python's Magic Methods?\n",
    "\n",
    "Python's magic methods are also known as:\n",
    "* special methods\n",
    "* dunder methods (ie. because of the double underscore)\n",
    "\n",
    "### 3. Is there documentation for Python Magic Methods?\n",
    "\n",
    "Python documentation here. [https://docs.python.org/3/reference/datamodel.html#special-method-names](https://docs.python.org/3/reference/datamodel.html#special-method-names)\n",
    "\n",
    "\n",
    "## 4. How is it used?"
   ]
  },
  {
   "cell_type": "markdown",
   "metadata": {},
   "source": [
    "### 1. Creating Classes\n",
    "\n",
    "\\_\\_init\\_\\_() is often used as a 'constructor' to initialise code when creating objects from classes.\n",
    "\n",
    "\\_\\_del\\_\\_() is the destructor."
   ]
  },
  {
   "cell_type": "code",
   "execution_count": 2,
   "metadata": {},
   "outputs": [
    {
     "name": "stdout",
     "output_type": "stream",
     "text": [
      "4\n",
      "0\n",
      "Number is destroyed:  4\n",
      "Number is destroyed:  0\n"
     ]
    }
   ],
   "source": [
    "class Number:\n",
    "    \n",
    "    def __init__(self, num=0):\n",
    "        self.num=num\n",
    "        \n",
    "    def __del__(self):\n",
    "        print(\"Number is destroyed: \", self.num)\n",
    "\n",
    "x = Number(4)\n",
    "print(x.num)\n",
    "\n",
    "y=Number() #defaults to 0\n",
    "print(y.num)\n",
    "\n",
    "del x,y"
   ]
  },
  {
   "cell_type": "markdown",
   "metadata": {},
   "source": [
    "### 2. Documentation, (Pretty) Printing, Debugging"
   ]
  },
  {
   "cell_type": "code",
   "execution_count": 4,
   "metadata": {},
   "outputs": [],
   "source": [
    "class Number:\n",
    "    \"\"\"\n",
    "    A class used to represent a Number\n",
    "    \n",
    "    Attributes\n",
    "    ----------\n",
    "    num : int/float\n",
    "    \n",
    "    \"\"\"\n",
    "    \n",
    "    def __init__(self, num=0):\n",
    "        self.num=num\n",
    "        \n",
    "    # when used with string. Will revert to __repr__ if not defined\n",
    "    def __str__(self):\n",
    "        return \"{0} is really cool\".format(self.num)\n",
    "    \n",
    "    def __repr__(self):\n",
    "        return \"(__repr__) will show Number({0})\".format(self.num)"
   ]
  },
  {
   "cell_type": "code",
   "execution_count": 5,
   "metadata": {},
   "outputs": [
    {
     "name": "stdout",
     "output_type": "stream",
     "text": [
      "5 is really cool\n"
     ]
    }
   ],
   "source": [
    "x = Number(5)\n",
    "print(x)"
   ]
  },
  {
   "cell_type": "code",
   "execution_count": 6,
   "metadata": {},
   "outputs": [
    {
     "name": "stdout",
     "output_type": "stream",
     "text": [
      "\n",
      "    A class used to represent a Number\n",
      "    \n",
      "    Attributes\n",
      "    ----------\n",
      "    num : int/float\n",
      "    \n",
      "    \n"
     ]
    }
   ],
   "source": [
    "print(x.__doc__)"
   ]
  },
  {
   "cell_type": "code",
   "execution_count": 8,
   "metadata": {},
   "outputs": [
    {
     "name": "stdout",
     "output_type": "stream",
     "text": [
      "The value of x is 5 is really cool\n"
     ]
    }
   ],
   "source": [
    "print(\"The value of x is\", x) # for users to see pretty and useful output. If not available, reverts to __repr__"
   ]
  },
  {
   "cell_type": "code",
   "execution_count": 7,
   "metadata": {},
   "outputs": [
    {
     "name": "stdout",
     "output_type": "stream",
     "text": [
      "The value of x is 5 is really cool\n"
     ]
    }
   ],
   "source": [
    "print(\"The value of x is\", str(x))"
   ]
  },
  {
   "cell_type": "code",
   "execution_count": 9,
   "metadata": {},
   "outputs": [
    {
     "name": "stdout",
     "output_type": "stream",
     "text": [
      "(__repr__) will show Number(5)\n"
     ]
    }
   ],
   "source": [
    "print(repr(x))"
   ]
  },
  {
   "cell_type": "markdown",
   "metadata": {},
   "source": [
    "### 3. Numerical Operators\n",
    "\n",
    "You can customise what + , -, * and / does using \\_\\_add\\_\\_, \\_\\_sub\\_\\_, \\_\\_mul\\_\\_, \\_\\_truediv\\_\\_"
   ]
  },
  {
   "cell_type": "code",
   "execution_count": 10,
   "metadata": {},
   "outputs": [
    {
     "name": "stdout",
     "output_type": "stream",
     "text": [
      "12\n",
      "12\n"
     ]
    }
   ],
   "source": [
    "x = 10\n",
    "print(10+2)\n",
    "print((10).__add__(2))"
   ]
  },
  {
   "cell_type": "code",
   "execution_count": 11,
   "metadata": {},
   "outputs": [
    {
     "name": "stdout",
     "output_type": "stream",
     "text": [
      "-4\n"
     ]
    }
   ],
   "source": [
    "class MessedUpNumber():\n",
    "    def __init__(self, num):\n",
    "        self.num=num\n",
    "    \n",
    "    def __add__(self, a):\n",
    "        return a.num - self.num # this does subtraction, and reverses the order!!\n",
    "    \n",
    "x = MessedUpNumber(10)\n",
    "y = MessedUpNumber(6)\n",
    "print(x+y) # 6-10"
   ]
  },
  {
   "cell_type": "markdown",
   "metadata": {},
   "source": [
    "### 5. Enables some built-in functions (eg. len)\n",
    "\n",
    "'len' is a built-in function. It is used by calling: len(object)\n",
    "    \n",
    "This is different from calling object.len"
   ]
  },
  {
   "cell_type": "code",
   "execution_count": 12,
   "metadata": {},
   "outputs": [
    {
     "ename": "TypeError",
     "evalue": "object of type 'Number' has no len()",
     "output_type": "error",
     "traceback": [
      "\u001b[1;31m---------------------------------------------------------------------------\u001b[0m",
      "\u001b[1;31mTypeError\u001b[0m                                 Traceback (most recent call last)",
      "\u001b[1;32m<ipython-input-12-91b87475939d>\u001b[0m in \u001b[0;36m<module>\u001b[1;34m\u001b[0m\n\u001b[0;32m      1\u001b[0m \u001b[0mx\u001b[0m \u001b[1;33m=\u001b[0m \u001b[0mNumber\u001b[0m\u001b[1;33m(\u001b[0m\u001b[1;36m7\u001b[0m\u001b[1;33m)\u001b[0m\u001b[1;33m\u001b[0m\u001b[1;33m\u001b[0m\u001b[0m\n\u001b[1;32m----> 2\u001b[1;33m \u001b[0mprint\u001b[0m\u001b[1;33m(\u001b[0m\u001b[0mlen\u001b[0m\u001b[1;33m(\u001b[0m\u001b[0mx\u001b[0m\u001b[1;33m)\u001b[0m\u001b[1;33m)\u001b[0m \u001b[1;31m# this doesn't work\u001b[0m\u001b[1;33m\u001b[0m\u001b[1;33m\u001b[0m\u001b[0m\n\u001b[0m",
      "\u001b[1;31mTypeError\u001b[0m: object of type 'Number' has no len()"
     ]
    }
   ],
   "source": [
    "x = Number(7)\n",
    "print(len(x)) # this doesn't work"
   ]
  },
  {
   "cell_type": "code",
   "execution_count": 13,
   "metadata": {},
   "outputs": [
    {
     "name": "stdout",
     "output_type": "stream",
     "text": [
      "1\n",
      "23\n"
     ]
    }
   ],
   "source": [
    "class Number:\n",
    "    \n",
    "    def __init__(self, num):\n",
    "        self.num = num\n",
    "    \n",
    "    def __len__(self):\n",
    "        return 1\n",
    "    \n",
    "    def len(self): # this is different from def __len__(self):\n",
    "        return 23\n",
    "\n",
    "x = Number(7)\n",
    "print(len(x))\n",
    "print(x.len())    "
   ]
  },
  {
   "cell_type": "markdown",
   "metadata": {},
   "source": [
    "### Creating Context Managers\n",
    "\n",
    "Context managers are often used for housekeeping. For example, when opening files, we can often forget to close files which results in memory leaks and can crash programs.\n",
    "\n",
    "Context managers help to 'automatically' perform 'enter' and 'exit' processes.\n",
    "\n",
    "Good online reference here: [https://book.pythontips.com/en/latest/context_managers.html](https://book.pythontips.com/en/latest/context_managers.html)"
   ]
  },
  {
   "cell_type": "code",
   "execution_count": 18,
   "metadata": {},
   "outputs": [
    {
     "name": "stdout",
     "output_type": "stream",
     "text": [
      "init method called\n",
      " > enter method called\n",
      "  > with statement block\n",
      " > exit method called\n"
     ]
    }
   ],
   "source": [
    "class ContextManager():\n",
    "    \n",
    "    def __init__(self):\n",
    "        print('init method called')\n",
    "        \n",
    "    def __enter__(self):\n",
    "        print(\" > enter method called\")\n",
    "    \n",
    "    def __exit__(self, exc_type, exc_value, exc_traceback):\n",
    "        print(\" > exit method called\")\n",
    "\n",
    "with ContextManager() as manager:\n",
    "    print('  > with statement block')"
   ]
  },
  {
   "cell_type": "code",
   "execution_count": null,
   "metadata": {},
   "outputs": [],
   "source": [
    "# this is similar to the above. See how there's no need to call close()\n",
    "f = open('hello.txt', 'w')\n",
    "try:\n",
    "    f.wrte(\"hello world\")\n",
    "finally:\n",
    "    f.close() # often don't write try-finally blocks with f.close!"
   ]
  },
  {
   "cell_type": "code",
   "execution_count": null,
   "metadata": {},
   "outputs": [],
   "source": [
    "# this is similar to the above. See how there's no need to call close()\n",
    "with open('hello.txt', 'w') as f:\n",
    "    f.write(\"hello world\")"
   ]
  },
  {
   "cell_type": "markdown",
   "metadata": {},
   "source": [
    "### 6. Enabling Iterators\n",
    "\n",
    "An Iterator is an object that can be iterated upon. This is cleverly implemented within for loops, comprehensions, generators etc. Such an object returns data, one element at a time.\n",
    "\n",
    "This is implemented using: \\_\\_iter\\_\\_ and \\_\\_next\\_\\_\n",
    "    \n",
    "Ref: [https://www.programiz.com/python-programming/iterator](https://www.programiz.com/python-programming/iterator)"
   ]
  },
  {
   "cell_type": "code",
   "execution_count": 19,
   "metadata": {},
   "outputs": [
    {
     "name": "stdout",
     "output_type": "stream",
     "text": [
      "4\n",
      "7\n",
      "8\n",
      "3\n"
     ]
    }
   ],
   "source": [
    "# for loop example\n",
    "my_list = [4, 7, 8, 3]\n",
    "for x in my_list:\n",
    "    print(x)"
   ]
  },
  {
   "cell_type": "code",
   "execution_count": 20,
   "metadata": {},
   "outputs": [
    {
     "name": "stdout",
     "output_type": "stream",
     "text": [
      "4\n",
      "7\n",
      "8\n",
      "3\n"
     ]
    },
    {
     "ename": "StopIteration",
     "evalue": "",
     "output_type": "error",
     "traceback": [
      "\u001b[1;31m---------------------------------------------------------------------------\u001b[0m",
      "\u001b[1;31mStopIteration\u001b[0m                             Traceback (most recent call last)",
      "\u001b[1;32m<ipython-input-20-78cdca477ea0>\u001b[0m in \u001b[0;36m<module>\u001b[1;34m\u001b[0m\n\u001b[0;32m     11\u001b[0m \u001b[1;33m\u001b[0m\u001b[0m\n\u001b[0;32m     12\u001b[0m \u001b[1;31m# This will raise error, as no items left\u001b[0m\u001b[1;33m\u001b[0m\u001b[1;33m\u001b[0m\u001b[1;33m\u001b[0m\u001b[0m\n\u001b[1;32m---> 13\u001b[1;33m \u001b[0mnext\u001b[0m\u001b[1;33m(\u001b[0m\u001b[0mmy_iter\u001b[0m\u001b[1;33m)\u001b[0m\u001b[1;33m\u001b[0m\u001b[1;33m\u001b[0m\u001b[0m\n\u001b[0m",
      "\u001b[1;31mStopIteration\u001b[0m: "
     ]
    }
   ],
   "source": [
    "# let's go through each item of the list using Iterator\n",
    "\n",
    "# get an iterator using iter()\n",
    "my_iter = iter(my_list)\n",
    "\n",
    "# print out each item until error raised (ie. no more next item)\n",
    "print(next(my_iter))\n",
    "print(next(my_iter))\n",
    "print(my_iter.__next__()) #same effect as previous\n",
    "print(my_iter.__next__())\n",
    "\n",
    "# This will raise error, as no items left\n",
    "next(my_iter)"
   ]
  },
  {
   "cell_type": "code",
   "execution_count": null,
   "metadata": {},
   "outputs": [],
   "source": [
    "# what happens within a for-loop - create iterable, call next()\n",
    "# Do not run - meant for illustrative purposes only!!\n",
    "\n",
    "iter_obj = iter(iterable)\n",
    "\n",
    "while True:\n",
    "    try:\n",
    "        element = next(iter_obj)\n",
    "        # do something with the element\n",
    "    catch:\n",
    "        # if StopIteration is raised, break the loop\n",
    "        break       "
   ]
  },
  {
   "cell_type": "code",
   "execution_count": 29,
   "metadata": {},
   "outputs": [],
   "source": [
    "# Create an object that is iterable\n",
    "\n",
    "class Vector:\n",
    "    \n",
    "    def __init__(self, a,b,c):\n",
    "        self.v = [a,b,c]\n",
    "    \n",
    "    def __iter__(self):\n",
    "        self.n=0\n",
    "        return self\n",
    "\n",
    "    def __next__(self):\n",
    "        if self.n < len(self.v):\n",
    "            item = self.v[self.n]\n",
    "            self.n+=1\n",
    "            return item\n",
    "        else:\n",
    "            raise StopIteration      \n",
    "    "
   ]
  },
  {
   "cell_type": "code",
   "execution_count": 30,
   "metadata": {},
   "outputs": [
    {
     "name": "stdout",
     "output_type": "stream",
     "text": [
      "<__main__.Vector object at 0x000001CEDE79D160>\n",
      "2\n",
      "4\n",
      "6\n"
     ]
    },
    {
     "ename": "StopIteration",
     "evalue": "",
     "output_type": "error",
     "traceback": [
      "\u001b[1;31m---------------------------------------------------------------------------\u001b[0m",
      "\u001b[1;31mStopIteration\u001b[0m                             Traceback (most recent call last)",
      "\u001b[1;32m<ipython-input-30-1a8b36b54c39>\u001b[0m in \u001b[0;36m<module>\u001b[1;34m\u001b[0m\n\u001b[0;32m      5\u001b[0m \u001b[0mprint\u001b[0m\u001b[1;33m(\u001b[0m\u001b[0mnext\u001b[0m\u001b[1;33m(\u001b[0m\u001b[0mvx\u001b[0m\u001b[1;33m)\u001b[0m\u001b[1;33m)\u001b[0m\u001b[1;33m\u001b[0m\u001b[1;33m\u001b[0m\u001b[0m\n\u001b[0;32m      6\u001b[0m \u001b[0mprint\u001b[0m\u001b[1;33m(\u001b[0m\u001b[0mnext\u001b[0m\u001b[1;33m(\u001b[0m\u001b[0mvx\u001b[0m\u001b[1;33m)\u001b[0m\u001b[1;33m)\u001b[0m\u001b[1;33m\u001b[0m\u001b[1;33m\u001b[0m\u001b[0m\n\u001b[1;32m----> 7\u001b[1;33m \u001b[0mprint\u001b[0m\u001b[1;33m(\u001b[0m\u001b[0mnext\u001b[0m\u001b[1;33m(\u001b[0m\u001b[0mvx\u001b[0m\u001b[1;33m)\u001b[0m\u001b[1;33m)\u001b[0m\u001b[1;33m\u001b[0m\u001b[1;33m\u001b[0m\u001b[0m\n\u001b[0m",
      "\u001b[1;32m<ipython-input-29-41c0fdf0f871>\u001b[0m in \u001b[0;36m__next__\u001b[1;34m(self)\u001b[0m\n\u001b[0;32m     16\u001b[0m             \u001b[1;32mreturn\u001b[0m \u001b[0mitem\u001b[0m\u001b[1;33m\u001b[0m\u001b[1;33m\u001b[0m\u001b[0m\n\u001b[0;32m     17\u001b[0m         \u001b[1;32melse\u001b[0m\u001b[1;33m:\u001b[0m\u001b[1;33m\u001b[0m\u001b[1;33m\u001b[0m\u001b[0m\n\u001b[1;32m---> 18\u001b[1;33m             \u001b[1;32mraise\u001b[0m \u001b[0mStopIteration\u001b[0m\u001b[1;33m\u001b[0m\u001b[1;33m\u001b[0m\u001b[0m\n\u001b[0m\u001b[0;32m     19\u001b[0m \u001b[1;33m\u001b[0m\u001b[0m\n",
      "\u001b[1;31mStopIteration\u001b[0m: "
     ]
    }
   ],
   "source": [
    "vx = Vector (2,4,6)\n",
    "i = iter(vx)\n",
    "print(i)\n",
    "print(next(vx))\n",
    "print(next(vx))\n",
    "print(next(vx))\n",
    "print(next(vx))"
   ]
  },
  {
   "cell_type": "code",
   "execution_count": 31,
   "metadata": {},
   "outputs": [
    {
     "name": "stdout",
     "output_type": "stream",
     "text": [
      "2\n",
      "4\n",
      "6\n"
     ]
    }
   ],
   "source": [
    "for x in vx:\n",
    "    print(x)"
   ]
  },
  {
   "cell_type": "markdown",
   "metadata": {},
   "source": [
    "### An example of comparing students"
   ]
  },
  {
   "cell_type": "code",
   "execution_count": 32,
   "metadata": {},
   "outputs": [],
   "source": [
    "class Student:\n",
    "    \n",
    "    def __init__(self, name, score, age):\n",
    "        self.name = name\n",
    "        self.score = score\n",
    "        self.age=age\n",
    "    \n",
    "    def __le__(self, a): # less than or equal to operator, <\n",
    "        if self.age <= a.age:\n",
    "            return True\n",
    "        else:\n",
    "            return False"
   ]
  },
  {
   "cell_type": "code",
   "execution_count": 33,
   "metadata": {},
   "outputs": [
    {
     "name": "stdout",
     "output_type": "stream",
     "text": [
      "False\n"
     ]
    }
   ],
   "source": [
    "s1 = Student(\"John\", 50, 14)\n",
    "s2 = Student(\"Mary\", 70, 12)\n",
    "\n",
    "print(s1 <= s2)"
   ]
  }
 ],
 "metadata": {
  "kernelspec": {
   "display_name": "Python 3",
   "language": "python",
   "name": "python3"
  },
  "language_info": {
   "codemirror_mode": {
    "name": "ipython",
    "version": 3
   },
   "file_extension": ".py",
   "mimetype": "text/x-python",
   "name": "python",
   "nbconvert_exporter": "python",
   "pygments_lexer": "ipython3",
   "version": "3.8.3"
  }
 },
 "nbformat": 4,
 "nbformat_minor": 4
}
