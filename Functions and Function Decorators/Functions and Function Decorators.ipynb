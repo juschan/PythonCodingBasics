{
 "cells": [
  {
   "cell_type": "markdown",
   "metadata": {},
   "source": [
    "# Functions and Function Decorators\n",
    "\n",
    "### Functions are blocks of code that only runs when it's called."
   ]
  },
  {
   "cell_type": "code",
   "execution_count": 1,
   "metadata": {},
   "outputs": [],
   "source": [
    "# functions are defined here, but does not run\n",
    "\n",
    "def my_function():\n",
    "    print(\"Hello World\")"
   ]
  },
  {
   "cell_type": "code",
   "execution_count": 2,
   "metadata": {},
   "outputs": [
    {
     "name": "stdout",
     "output_type": "stream",
     "text": [
      "Hello World\n"
     ]
    }
   ],
   "source": [
    "# function is called and run here\n",
    "my_function()"
   ]
  },
  {
   "cell_type": "code",
   "execution_count": 3,
   "metadata": {},
   "outputs": [
    {
     "name": "stdout",
     "output_type": "stream",
     "text": [
      "Hey!\n"
     ]
    }
   ],
   "source": [
    "# define a function with one parameter\n",
    "def print_msg(msg):\n",
    "    print(msg)\n",
    "\n",
    "# call function with one argument\n",
    "print(\"Hey!\")"
   ]
  },
  {
   "cell_type": "code",
   "execution_count": 5,
   "metadata": {},
   "outputs": [
    {
     "name": "stdout",
     "output_type": "stream",
     "text": [
      "Hey! Have a good day!\n"
     ]
    }
   ],
   "source": [
    "# function with two parameters\n",
    "def print_msg2(msg1, msg2):\n",
    "    print(msg1+msg2)\n",
    "\n",
    "print_msg2(\"Hey! \", \"Have a good day!\")"
   ]
  },
  {
   "cell_type": "code",
   "execution_count": 7,
   "metadata": {},
   "outputs": [
    {
     "name": "stdout",
     "output_type": "stream",
     "text": [
      "<class 'tuple'>\n",
      "The last input is  Joe\n"
     ]
    }
   ],
   "source": [
    "# functions with unknown number of parameters/arguments\n",
    "# function processes parameter as tuples\n",
    "\n",
    "def multi_input_function(*inputs):\n",
    "    print(type(inputs))\n",
    "    print(\"The last input is \", inputs[-1])\n",
    "\n",
    "multi_input_function(\"John\", \"Mary\", \"James\", \"Joe\")"
   ]
  },
  {
   "cell_type": "code",
   "execution_count": 9,
   "metadata": {},
   "outputs": [
    {
     "name": "stdout",
     "output_type": "stream",
     "text": [
      "child1 is  James\n",
      "child4 is  Dan\n"
     ]
    }
   ],
   "source": [
    "# keyword arguments with defaults\n",
    "\n",
    "\n",
    "def kids_function(child1, child2, child3, child4=\"Dan\"): #default arguments must come AFTER non-default\n",
    "    print(\"child1 is \", child1)\n",
    "    print(\"child4 is \", child4)\n",
    "\n",
    "kids_function(child3=\"John\", child2=\"Mary\", child1=\"James\")"
   ]
  },
  {
   "cell_type": "code",
   "execution_count": 11,
   "metadata": {},
   "outputs": [
    {
     "name": "stdout",
     "output_type": "stream",
     "text": [
      "<class 'dict'>\n",
      "{'child3': 'Amy', 'child1': 'Joyce'}\n",
      "child3  -  Amy\n",
      "child1  -  Joyce\n"
     ]
    }
   ],
   "source": [
    "# unknown number of parameters/arguments with keywords\n",
    "# function processes parameters as dictionaries\n",
    "\n",
    "def kids_function2(**inputs):\n",
    "    print(type(inputs))\n",
    "    print(inputs)\n",
    "    \n",
    "    for k,v in inputs.items():\n",
    "        print(k, \" - \", v)\n",
    "\n",
    "kids_function2(child3=\"Amy\", child1=\"Joyce\")    "
   ]
  },
  {
   "cell_type": "code",
   "execution_count": 13,
   "metadata": {},
   "outputs": [
    {
     "name": "stdout",
     "output_type": "stream",
     "text": [
      "Length is  5\n",
      "Sum is  15\n"
     ]
    }
   ],
   "source": [
    "### functions can return multiple values (as tuples)\n",
    "\n",
    "def stats(inputs):\n",
    "    return len(inputs), sum(inputs)\n",
    "\n",
    "stats1, stats2 = stats([1,2,3,4,5])\n",
    "\n",
    "print(\"Length is \", stats1)\n",
    "print(\"Sum is \", stats2)"
   ]
  },
  {
   "cell_type": "markdown",
   "metadata": {},
   "source": [
    "### Function as objects"
   ]
  },
  {
   "cell_type": "code",
   "execution_count": 14,
   "metadata": {},
   "outputs": [],
   "source": [
    "def first(msg):\n",
    "    print(msg)\n",
    "\n",
    "second = first"
   ]
  },
  {
   "cell_type": "code",
   "execution_count": 15,
   "metadata": {},
   "outputs": [
    {
     "name": "stdout",
     "output_type": "stream",
     "text": [
      "testing1\n",
      "testin2\n"
     ]
    }
   ],
   "source": [
    "first(\"testing1\")\n",
    "second(\"testing2\")"
   ]
  },
  {
   "cell_type": "code",
   "execution_count": 16,
   "metadata": {},
   "outputs": [],
   "source": [
    "# passing functions as arguments\n",
    "def inc(x):\n",
    "    return x+1\n",
    "\n",
    "def dec(x):\n",
    "    return x-1\n",
    "\n",
    "def operate(func, x):\n",
    "    result = func(x)\n",
    "    return result"
   ]
  },
  {
   "cell_type": "code",
   "execution_count": 18,
   "metadata": {},
   "outputs": [
    {
     "name": "stdout",
     "output_type": "stream",
     "text": [
      "6\n",
      "4\n"
     ]
    }
   ],
   "source": [
    "# list of functions\n",
    "x = 5\n",
    "for f in [inc, dec]:\n",
    "    print(f(x))"
   ]
  },
  {
   "cell_type": "code",
   "execution_count": 17,
   "metadata": {},
   "outputs": [
    {
     "data": {
      "text/plain": [
       "3"
      ]
     },
     "execution_count": 17,
     "metadata": {},
     "output_type": "execute_result"
    }
   ],
   "source": [
    "operate(inc, 2)"
   ]
  },
  {
   "cell_type": "code",
   "execution_count": 19,
   "metadata": {},
   "outputs": [],
   "source": [
    "### Functions returning functions\n",
    "def is_called():\n",
    "    def is_returned():\n",
    "        print(\"Hello\")\n",
    "    \n",
    "    return is_returned # note the indentation and which function it refers to (ie. is_called)"
   ]
  },
  {
   "cell_type": "code",
   "execution_count": 20,
   "metadata": {},
   "outputs": [],
   "source": [
    "new = is_called()"
   ]
  },
  {
   "cell_type": "code",
   "execution_count": 21,
   "metadata": {},
   "outputs": [
    {
     "name": "stdout",
     "output_type": "stream",
     "text": [
      "Hello\n"
     ]
    }
   ],
   "source": [
    "new()"
   ]
  },
  {
   "cell_type": "code",
   "execution_count": 22,
   "metadata": {},
   "outputs": [
    {
     "name": "stdout",
     "output_type": "stream",
     "text": [
      "Hello\n"
     ]
    }
   ],
   "source": [
    "# is_called() returns the function: is_returned\n",
    "# is_called()() is doing this: is_called()\n",
    "\n",
    "is_called()()"
   ]
  },
  {
   "cell_type": "markdown",
   "metadata": {},
   "source": [
    "### Function Decorators\n",
    "\n",
    "A function decorator takes in a funciton, adds some functionality and returns it."
   ]
  },
  {
   "cell_type": "code",
   "execution_count": 23,
   "metadata": {},
   "outputs": [
    {
     "name": "stdout",
     "output_type": "stream",
     "text": [
      "I am ordinary\n"
     ]
    }
   ],
   "source": [
    "def ordinary():\n",
    "    print(\"I am ordinary\")\n",
    "\n",
    "ordinary()"
   ]
  },
  {
   "cell_type": "code",
   "execution_count": 24,
   "metadata": {},
   "outputs": [],
   "source": [
    "# make_pretty is a decorator\n",
    "# Note: function within function\n",
    "# Note: returns the inner function\n",
    "\n",
    "def make_pretty(func):\n",
    "    def inner():\n",
    "        print(\"I got decorated\")\n",
    "        func()\n",
    "        \n",
    "    return inner"
   ]
  },
  {
   "cell_type": "code",
   "execution_count": 25,
   "metadata": {},
   "outputs": [
    {
     "name": "stdout",
     "output_type": "stream",
     "text": [
      "I got decorated\n",
      "I am ordinary\n"
     ]
    }
   ],
   "source": [
    "# ordinary got decorated\n",
    "# pretty is the returned function\n",
    "\n",
    "pretty = make_pretty(ordinary)\n",
    "pretty()"
   ]
  },
  {
   "cell_type": "code",
   "execution_count": 26,
   "metadata": {},
   "outputs": [],
   "source": [
    "# we normally decorate the function like this\n",
    "ordinary = make_pretty(ordinary)"
   ]
  },
  {
   "cell_type": "code",
   "execution_count": 27,
   "metadata": {},
   "outputs": [
    {
     "name": "stdout",
     "output_type": "stream",
     "text": [
      "I got decorated\n",
      "I am ordinary\n"
     ]
    }
   ],
   "source": [
    "# ordinary is no longer ordinary. The original ordinary is overwritten\n",
    "ordinary()"
   ]
  },
  {
   "cell_type": "code",
   "execution_count": 29,
   "metadata": {},
   "outputs": [
    {
     "name": "stdout",
     "output_type": "stream",
     "text": [
      "I got decorated\n",
      "I am ordinary\n"
     ]
    }
   ],
   "source": [
    "# instead of: ordinary = maek_pretty(ordinary)\n",
    "# we first write the make_pretty\n",
    "# then decorate the ordinary function with the @maek_pretty decorator\n",
    "\n",
    "@make_pretty\n",
    "def ordinary():\n",
    "    print(\"I am ordinary\")\n",
    "\n",
    "ordinary()"
   ]
  },
  {
   "cell_type": "markdown",
   "metadata": {},
   "source": [
    "### Why use function decorators?\n",
    "\n",
    "Add useful functionalities, allowing for reuse.\n",
    "* timing \n",
    "* logging\n",
    "* retries"
   ]
  },
  {
   "cell_type": "code",
   "execution_count": 30,
   "metadata": {},
   "outputs": [],
   "source": [
    "# a timing example\n",
    "from datetime import datetime\n",
    "import time\n",
    "\n",
    "def timing(func):\n",
    "    def timer():\n",
    "        print(\"Start: \", datetime.now())\n",
    "        result = func()\n",
    "        print(\"End: \", datetime.now())\n",
    "        return result\n",
    "    \n",
    "    return timer"
   ]
  },
  {
   "cell_type": "code",
   "execution_count": 31,
   "metadata": {},
   "outputs": [
    {
     "name": "stdout",
     "output_type": "stream",
     "text": [
      "Start:  2021-03-23 21:47:08.555562\n",
      "Result:  125\n",
      "End:  2021-03-23 21:47:13.581372\n",
      "Output is  125\n"
     ]
    }
   ],
   "source": [
    "@timing\n",
    "def complex_function():\n",
    "    time.sleep(5)\n",
    "    result = 5*5*5\n",
    "    print(\"Result: \", result)\n",
    "    return result\n",
    "\n",
    "print(\"Output is \", complex_function())"
   ]
  },
  {
   "cell_type": "code",
   "execution_count": 32,
   "metadata": {},
   "outputs": [
    {
     "name": "stdout",
     "output_type": "stream",
     "text": [
      "Start:  2021-03-23 21:47:46.583314\n",
      "Result:  36\n",
      "End:  2021-03-23 21:47:56.598684\n",
      "Output is  36\n"
     ]
    }
   ],
   "source": [
    "# reuse in another complex function\n",
    "@timing\n",
    "def complex_function2():\n",
    "    time.sleep(10)\n",
    "    result = 6*6\n",
    "    print(\"Result: \", result)\n",
    "    return result\n",
    "\n",
    "print(\"Output is \", complex_function2())"
   ]
  },
  {
   "cell_type": "code",
   "execution_count": null,
   "metadata": {},
   "outputs": [],
   "source": []
  }
 ],
 "metadata": {
  "kernelspec": {
   "display_name": "Python 3",
   "language": "python",
   "name": "python3"
  },
  "language_info": {
   "codemirror_mode": {
    "name": "ipython",
    "version": 3
   },
   "file_extension": ".py",
   "mimetype": "text/x-python",
   "name": "python",
   "nbconvert_exporter": "python",
   "pygments_lexer": "ipython3",
   "version": "3.8.3"
  }
 },
 "nbformat": 4,
 "nbformat_minor": 4
}
